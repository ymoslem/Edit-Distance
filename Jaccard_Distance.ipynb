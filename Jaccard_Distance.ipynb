{
 "cells": [
  {
   "cell_type": "markdown",
   "metadata": {},
   "source": [
    "# Jaccard Distance"
   ]
  },
  {
   "cell_type": "markdown",
   "metadata": {},
   "source": [
    "Jaccard Distance is a measure of how dissimilar two sets are.  The lower the distance, the more similar the two strings.\n",
    "\n",
    "Jaccard Distance depends on another concept called “Jaccard Similarity Index” which is (the number in both sets) / (the number in either set) * 100\n",
    "\n",
    "\\begin{equation}J(X,Y) = |X \\cap Y| / |X \\cup Y|\\end{equation}\n",
    "\n",
    "Then we can calculate the Jaccard Distance as follows:\n",
    "\n",
    "\\begin{equation}D(X,Y) = 1 - J(X,Y)\\end{equation}"
   ]
  },
  {
   "cell_type": "markdown",
   "metadata": {},
   "source": [
    "## Example #1: Jaccard Distance between two words"
   ]
  },
  {
   "cell_type": "code",
   "execution_count": 2,
   "metadata": {},
   "outputs": [
    {
     "data": {
      "text/plain": [
       "0.14285714285714285"
      ]
     },
     "execution_count": 2,
     "metadata": {},
     "output_type": "execute_result"
    }
   ],
   "source": [
    "import nltk\n",
    "\n",
    "w1 = set('mapping')\n",
    "w2 = set('mappings')\n",
    "\n",
    "nltk.jaccard_distance(w1, w2)"
   ]
  },
  {
   "cell_type": "markdown",
   "metadata": {},
   "source": [
    "## Example #2: Basic Spelling Checker"
   ]
  },
  {
   "cell_type": "code",
   "execution_count": 3,
   "metadata": {},
   "outputs": [
    {
     "name": "stdout",
     "output_type": "stream",
     "text": [
      "apple 0.875\n",
      "bag 0.8571428571428571\n",
      "drawing 0.6666666666666666\n",
      "listing 0.16666666666666666\n",
      "linking 0.3333333333333333\n",
      "living 0.3333333333333333\n",
      "lighting 0.16666666666666666\n",
      "orange 0.7777777777777778\n",
      "walking 0.5\n",
      "zoo 1.0\n"
     ]
    }
   ],
   "source": [
    "import nltk\n",
    "\n",
    "mistake = \"ligting\"\n",
    "\n",
    "words = ['apple', 'bag', 'drawing', 'listing', 'linking', 'living', 'lighting', 'orange', 'walking', 'zoo']\n",
    "\n",
    "for word in words:\n",
    "    jd = nltk.jaccard_distance(set(mistake), set(word))\n",
    "    print(word, jd)"
   ]
  },
  {
   "cell_type": "code",
   "execution_count": 15,
   "metadata": {},
   "outputs": [],
   "source": [
    "# The same example with NLTK \"words\"\n",
    "\n",
    "import nltk\n",
    "#nltk.download('words')\n",
    "\n",
    "mistake = \"ligting\"\n",
    "\n",
    "words = nltk.corpus.words.words()\n",
    "\n",
    "jds = []\n",
    "\n",
    "for word in words:\n",
    "    jd = nltk.jaccard_distance(set(mistake), set(word))\n",
    "    rounded_jd = round(jd, 2)\n",
    "    jds.append((rounded_jd, word))"
   ]
  },
  {
   "cell_type": "code",
   "execution_count": 16,
   "metadata": {},
   "outputs": [
    {
     "name": "stdout",
     "output_type": "stream",
     "text": [
      "(0.0, 'glint')\n",
      "(0.0, 'littling')\n",
      "(0.0, 'tiling')\n",
      "(0.0, 'tilting')\n",
      "(0.0, 'tingling')\n",
      "(0.0, 'titling')\n",
      "(0.17, 'Tlingit')\n",
      "(0.17, 'aglint')\n",
      "(0.17, 'antling')\n",
      "(0.17, 'clinting')\n"
     ]
    }
   ],
   "source": [
    "# Print the nearest 10 words\n",
    "\n",
    "print(*sorted(jds)[0:10], sep=\"\\n\")"
   ]
  },
  {
   "cell_type": "markdown",
   "metadata": {},
   "source": [
    "## Example #3: Sentence-level Jaccard Distance"
   ]
  },
  {
   "cell_type": "code",
   "execution_count": 12,
   "metadata": {},
   "outputs": [
    {
     "name": "stdout",
     "output_type": "stream",
     "text": [
      "0.18181818181818182 Jaccard Distance between sent1 and sent2\n",
      "0.36 Jaccard Distance between sent1 and sent3\n",
      "0.0 Jaccard Distance between sent1 and sent4\n",
      "0.22727272727272727 Jaccard Distance between sent1 and sent5\n"
     ]
    }
   ],
   "source": [
    "import nltk\n",
    "\n",
    "sent1 = set(\"It might help to re-install Python if possible.\")\n",
    "sent2 = set(\"It can help to install Python again if possible.\")\n",
    "sent3 = set(\"It can be so helpful to reinstall C++ if possible.\")\n",
    "sent4 = set(\"help It possible Python to re-install if might.\") # The same words as sent1 with a different order.\n",
    "sent5 = set(\"I love Python programming.\")\n",
    "\n",
    "jd_sent_1_2 = nltk.jaccard_distance(sent1, sent2)\n",
    "jd_sent_1_3 = nltk.jaccard_distance(sent1, sent3)\n",
    "jd_sent_1_4 = nltk.jaccard_distance(sent1, sent4)\n",
    "jd_sent_1_5 = nltk.jaccard_distance(sent1, sent5)\n",
    "\n",
    "\n",
    "print(jd_sent_1_2, 'Jaccard Distance between sent1 and sent2')\n",
    "print(jd_sent_1_3, 'Jaccard Distance between sent1 and sent3')\n",
    "print(jd_sent_1_4, 'Jaccard Distance between sent1 and sent4')\n",
    "print(jd_sent_1_5, 'Jaccard Distance between sent1 and sent5')"
   ]
  },
  {
   "cell_type": "markdown",
   "metadata": {},
   "source": [
    "## Example #4: Character-level n-gram Jaccard Distance"
   ]
  },
  {
   "cell_type": "code",
   "execution_count": 17,
   "metadata": {},
   "outputs": [
    {
     "name": "stdout",
     "output_type": "stream",
     "text": [
      "0.43103448275862066 Jaccard Distance between sent1 and sent2 with ngram 3\n",
      "0.6323529411764706 Jaccard Distance between sent1 and sent3 with ngram 3\n",
      "0.3333333333333333 Jaccard Distance between sent1 and sent4 with ngram 3\n",
      "0.9047619047619048 Jaccard Distance between sent1 and sent5 with ngram 3\n"
     ]
    }
   ],
   "source": [
    "import nltk\n",
    "\n",
    "sent1 = \"It might help to re-install Python if possible.\"\n",
    "sent2 = \"It can help to install Python again if possible.\"\n",
    "sent3 = \"It can be so helpful to reinstall C++ if possible.\"\n",
    "sent4 = \"help It possible Python to re-install if might.\" # The same words as sent1 with a different order.\n",
    "sent5 = \"I love Python programming.\"\n",
    "\n",
    "\n",
    "ng1_chars = set(nltk.ngrams(sent1, n=3))\n",
    "ng2_chars = set(nltk.ngrams(sent2, n=3))\n",
    "ng3_chars = set(nltk.ngrams(sent3, n=3))\n",
    "ng4_chars = set(nltk.ngrams(sent4, n=3))\n",
    "ng5_chars = set(nltk.ngrams(sent5, n=3))\n",
    "\n",
    "jd_sent_1_2 = nltk.jaccard_distance(ng1_chars, ng2_chars)\n",
    "jd_sent_1_3 = nltk.jaccard_distance(ng1_chars, ng3_chars)\n",
    "jd_sent_1_4 = nltk.jaccard_distance(ng1_chars, ng4_chars)\n",
    "jd_sent_1_5 = nltk.jaccard_distance(ng1_chars, ng5_chars)\n",
    "\n",
    "print(jd_sent_1_2, \"Jaccard Distance between sent1 and sent2 with ngram 3\")\n",
    "print(jd_sent_1_3, \"Jaccard Distance between sent1 and sent3 with ngram 3\")\n",
    "print(jd_sent_1_4, \"Jaccard Distance between sent1 and sent4 with ngram 3\")\n",
    "print(jd_sent_1_5, \"Jaccard Distance between sent1 and sent5 with ngram 3\")"
   ]
  },
  {
   "cell_type": "markdown",
   "metadata": {},
   "source": [
    "## Example #5: Token-level n-gram Jaccard Distance"
   ]
  },
  {
   "cell_type": "code",
   "execution_count": 18,
   "metadata": {},
   "outputs": [
    {
     "name": "stdout",
     "output_type": "stream",
     "text": [
      "0.9285714285714286 Jaccard Distance between tokens1 and tokens2 with ngram 3\n",
      "0.9333333333333333 Jaccard Distance between tokens1 and tokens3 with ngram 3\n",
      "1.0 Jaccard Distance between tokens1 and tokens4 with ngram 3\n",
      "1.0 Jaccard Distance between tokens1 and tokens5 with ngram 3\n"
     ]
    }
   ],
   "source": [
    "import nltk\n",
    "\n",
    "sent1 = \"It might help to re-install Python if possible.\"\n",
    "sent2 = \"It can help to install Python again if possible.\"\n",
    "sent3 = \"It can be so helpful to reinstall C++ if possible.\"\n",
    "sent4 = \"help It possible Python to re-install if might.\" # The same words as sent1 with a different order.\n",
    "sent5 = \"I love Python programming.\"\n",
    "\n",
    "tokens1 = nltk.word_tokenize(sent1)\n",
    "tokens2 = nltk.word_tokenize(sent2)\n",
    "tokens3 = nltk.word_tokenize(sent3)\n",
    "tokens4 = nltk.word_tokenize(sent4)\n",
    "tokens5 = nltk.word_tokenize(sent5)\n",
    "\n",
    "ng1_tokens = set(nltk.ngrams(tokens1, n=3))\n",
    "ng2_tokens = set(nltk.ngrams(tokens2, n=3))\n",
    "ng3_tokens = set(nltk.ngrams(tokens3, n=3))\n",
    "ng4_tokens = set(nltk.ngrams(tokens4, n=3))\n",
    "ng5_tokens = set(nltk.ngrams(tokens5, n=3))\n",
    "\n",
    "jd_sent_1_2 = nltk.jaccard_distance(ng1_tokens, ng2_tokens)\n",
    "jd_sent_1_3 = nltk.jaccard_distance(ng1_tokens, ng3_tokens)\n",
    "jd_sent_1_4 = nltk.jaccard_distance(ng1_tokens, ng4_tokens)\n",
    "jd_sent_1_5 = nltk.jaccard_distance(ng1_tokens, ng5_tokens)\n",
    "\n",
    "print(jd_sent_1_2, \"Jaccard Distance between tokens1 and tokens2 with ngram 3\")\n",
    "print(jd_sent_1_3, \"Jaccard Distance between tokens1 and tokens3 with ngram 3\")\n",
    "print(jd_sent_1_4, \"Jaccard Distance between tokens1 and tokens4 with ngram 3\")\n",
    "print(jd_sent_1_5, \"Jaccard Distance between tokens1 and tokens5 with ngram 3\")"
   ]
  },
  {
   "cell_type": "markdown",
   "metadata": {},
   "source": [
    "Read the full tutorial of Jaccard Distance at: https://python.gotrained.com/nltk-edit-distance-jaccard-distance/"
   ]
  }
 ],
 "metadata": {
  "kernelspec": {
   "display_name": "Python 3",
   "language": "python",
   "name": "python3"
  },
  "language_info": {
   "codemirror_mode": {
    "name": "ipython",
    "version": 3
   },
   "file_extension": ".py",
   "mimetype": "text/x-python",
   "name": "python",
   "nbconvert_exporter": "python",
   "pygments_lexer": "ipython3",
   "version": "3.8.6"
  }
 },
 "nbformat": 4,
 "nbformat_minor": 4
}
