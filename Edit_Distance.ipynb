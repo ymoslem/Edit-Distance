{
 "cells": [
  {
   "cell_type": "markdown",
   "metadata": {},
   "source": [
    "# Edit Distance"
   ]
  },
  {
   "cell_type": "markdown",
   "metadata": {},
   "source": [
    "**Edit Distance** (a.k.a. Levenshtein Distance) is a measure of similarity between two strings referred to as the source string and the target string."
   ]
  },
  {
   "cell_type": "markdown",
   "metadata": {},
   "source": [
    "## Example #1: Edit Distance between two words"
   ]
  },
  {
   "cell_type": "code",
   "execution_count": 16,
   "metadata": {},
   "outputs": [
    {
     "data": {
      "text/plain": [
       "1"
      ]
     },
     "execution_count": 16,
     "metadata": {},
     "output_type": "execute_result"
    }
   ],
   "source": [
    "import nltk\n",
    "\n",
    "w1 = 'mapping'\n",
    "w2 = 'mappings'\n",
    "\n",
    "nltk.edit_distance(w1, w2)"
   ]
  },
  {
   "cell_type": "markdown",
   "metadata": {},
   "source": [
    "## Example #2: Basic Spelling Checker"
   ]
  },
  {
   "cell_type": "code",
   "execution_count": 17,
   "metadata": {},
   "outputs": [
    {
     "name": "stdout",
     "output_type": "stream",
     "text": [
      "apple 7\n",
      "bag 6\n",
      "drawing 4\n",
      "listing 1\n",
      "linking 2\n",
      "living 2\n",
      "lighting 1\n",
      "orange 6\n",
      "walking 4\n",
      "zoo 7\n"
     ]
    }
   ],
   "source": [
    "import nltk\n",
    "\n",
    "mistake = \"ligting\"\n",
    "\n",
    "words = ['apple', 'bag', 'drawing', 'listing', 'linking', 'living', 'lighting', 'orange', 'walking', 'zoo']\n",
    "\n",
    "for word in words:\n",
    "    ed = nltk.edit_distance(mistake, word)\n",
    "    print(word, ed)"
   ]
  },
  {
   "cell_type": "code",
   "execution_count": 18,
   "metadata": {},
   "outputs": [],
   "source": [
    "# The same example with NLTK \"words\"\n",
    "\n",
    "import nltk\n",
    "#nltk.download('words')\n",
    "\n",
    "mistake = \"ligting\"\n",
    "\n",
    "words = nltk.corpus.words.words()\n",
    "\n",
    "eds = []\n",
    "\n",
    "for word in words:\n",
    "    ed = nltk.edit_distance(mistake, word)\n",
    "    eds.append((ed, word))"
   ]
  },
  {
   "cell_type": "code",
   "execution_count": 19,
   "metadata": {},
   "outputs": [
    {
     "name": "stdout",
     "output_type": "stream",
     "text": [
      "(1, 'lifting')\n",
      "(1, 'lighting')\n",
      "(1, 'listing')\n",
      "(2, 'Lagting')\n",
      "(2, 'biting')\n",
      "(2, 'blighting')\n",
      "(2, 'clinting')\n",
      "(2, 'digging')\n",
      "(2, 'figging')\n",
      "(2, 'fighting')\n"
     ]
    }
   ],
   "source": [
    "# Print the nearest 10 words\n",
    "\n",
    "print(*sorted(eds)[0:10], sep=\"\\n\")"
   ]
  },
  {
   "cell_type": "markdown",
   "metadata": {},
   "source": [
    "## Example #3: Sentence-level Edit Distance"
   ]
  },
  {
   "cell_type": "code",
   "execution_count": 20,
   "metadata": {},
   "outputs": [
    {
     "name": "stdout",
     "output_type": "stream",
     "text": [
      "14 Edit Distance between sent1 and sent2\n",
      "19 Edit Distance between sent1 and sent3\n",
      "32 Edit Distance between sent1 and sent4\n",
      "33 Edit Distance between sent1 and sent5\n"
     ]
    }
   ],
   "source": [
    "# Sentence or paragraph comparison (e.g. plagiarism detection or translation memory)\n",
    "\n",
    "import nltk\n",
    "\n",
    "sent1 = \"It might help to re-install Python if possible.\"\n",
    "sent2 = \"It can help to install Python again if possible.\"\n",
    "sent3 = \"It can be so helpful to reinstall C++ if possible.\"\n",
    "sent4 = \"help It possible Python to re-install if might.\" # The same words as sent1 with a different order.\n",
    "sent5 = \"I love Python programming.\"\n",
    "\n",
    "ed_sent_1_2 = nltk.edit_distance(sent1, sent2)\n",
    "ed_sent_1_3 = nltk.edit_distance(sent1, sent3)\n",
    "ed_sent_1_4 = nltk.edit_distance(sent1, sent4)\n",
    "ed_sent_1_5 = nltk.edit_distance(sent1, sent5)\n",
    "\n",
    "\n",
    "print(ed_sent_1_2, 'Edit Distance between sent1 and sent2')\n",
    "print(ed_sent_1_3, 'Edit Distance between sent1 and sent3')\n",
    "print(ed_sent_1_4, 'Edit Distance between sent1 and sent4')\n",
    "print(ed_sent_1_5, 'Edit Distance between sent1 and sent5')"
   ]
  },
  {
   "cell_type": "markdown",
   "metadata": {},
   "source": [
    "## Example #4: Character-level n-gram Edit Distance"
   ]
  },
  {
   "cell_type": "code",
   "execution_count": 21,
   "metadata": {},
   "outputs": [
    {
     "name": "stdout",
     "output_type": "stream",
     "text": [
      "18 Edit Distance between sent1 and sent2 with ngram 3\n",
      "27 Edit Distance between sent1 and sent3 with ngram 3\n",
      "39 Edit Distance between sent1 and sent4 with ngram 3\n",
      "39 Edit Distance between sent1 and sent5 with ngram 3\n"
     ]
    }
   ],
   "source": [
    "import nltk\n",
    "\n",
    "sent1 = \"It might help to re-install Python if possible.\"\n",
    "sent2 = \"It can help to install Python again if possible.\"\n",
    "sent3 = \"It can be so helpful to reinstall C++ if possible.\"\n",
    "sent4 = \"help It possible Python to re-install if might.\" # The same words as sent1 with a different order.\n",
    "sent5 = \"I love Python programming.\"\n",
    "\n",
    "\n",
    "ng1_chars = list(nltk.ngrams(sent1, n=3))\n",
    "ng2_chars = list(nltk.ngrams(sent2, n=3))\n",
    "ng3_chars = list(nltk.ngrams(sent3, n=3))\n",
    "ng4_chars = list(nltk.ngrams(sent4, n=3))\n",
    "ng5_chars = list(nltk.ngrams(sent5, n=3))\n",
    "\n",
    "ed_sent_1_2 = nltk.edit_distance(ng1_chars, ng2_chars)\n",
    "ed_sent_1_3 = nltk.edit_distance(ng1_chars, ng3_chars)\n",
    "ed_sent_1_4 = nltk.edit_distance(ng1_chars, ng4_chars)\n",
    "ed_sent_1_5 = nltk.edit_distance(ng1_chars, ng5_chars)\n",
    "\n",
    "print(ed_sent_1_2, \"Edit Distance between sent1 and sent2 with ngram 3\")\n",
    "print(ed_sent_1_3, \"Edit Distance between sent1 and sent3 with ngram 3\")\n",
    "print(ed_sent_1_4, \"Edit Distance between sent1 and sent4 with ngram 3\")\n",
    "print(ed_sent_1_5, \"Edit Distance between sent1 and sent5 with ngram 3\")"
   ]
  },
  {
   "cell_type": "markdown",
   "metadata": {},
   "source": [
    "## Example #5: Token-level n-gram Edit Distance"
   ]
  },
  {
   "cell_type": "code",
   "execution_count": 22,
   "metadata": {},
   "outputs": [
    {
     "name": "stdout",
     "output_type": "stream",
     "text": [
      "7 Edit Distance between tokens1 and tokens2 with ngram 3\n",
      "8 Edit Distance between tokens1 and tokens3 with ngram 3\n",
      "7 Edit Distance between tokens1 and tokens4 with ngram 3\n",
      "7 Edit Distance between tokens1 and tokens5 with ngram 3\n"
     ]
    }
   ],
   "source": [
    "import nltk\n",
    "\n",
    "sent1 = \"It might help to re-install Python if possible.\"\n",
    "sent2 = \"It can help to install Python again if possible.\"\n",
    "sent3 = \"It can be so helpful to reinstall C++ if possible.\"\n",
    "sent4 = \"help It possible Python to re-install if might.\" # The same words as sent1 with a different order.\n",
    "sent5 = \"I love Python programming.\"\n",
    "\n",
    "tokens1 = nltk.word_tokenize(sent1)\n",
    "tokens2 = nltk.word_tokenize(sent2)\n",
    "tokens3 = nltk.word_tokenize(sent3)\n",
    "tokens4 = nltk.word_tokenize(sent4)\n",
    "tokens5 = nltk.word_tokenize(sent5)\n",
    "\n",
    "ng1_tokens = list(nltk.ngrams(tokens1, n=3))\n",
    "ng2_tokens = list(nltk.ngrams(tokens2, n=3))\n",
    "ng3_tokens = list(nltk.ngrams(tokens3, n=3))\n",
    "ng4_tokens = list(nltk.ngrams(tokens4, n=3))\n",
    "ng5_tokens = list(nltk.ngrams(tokens5, n=3))\n",
    "\n",
    "ed_sent_1_2 = nltk.edit_distance(ng1_tokens, ng2_tokens)\n",
    "ed_sent_1_3 = nltk.edit_distance(ng1_tokens, ng3_tokens)\n",
    "ed_sent_1_4 = nltk.edit_distance(ng1_tokens, ng4_tokens)\n",
    "ed_sent_1_5 = nltk.edit_distance(ng1_tokens, ng5_tokens)\n",
    "\n",
    "print(ed_sent_1_2, \"Edit Distance between tokens1 and tokens2 with ngram 3\")\n",
    "print(ed_sent_1_3, \"Edit Distance between tokens1 and tokens3 with ngram 3\")\n",
    "print(ed_sent_1_4, \"Edit Distance between tokens1 and tokens4 with ngram 3\")\n",
    "print(ed_sent_1_5, \"Edit Distance between tokens1 and tokens5 with ngram 3\")"
   ]
  },
  {
   "cell_type": "markdown",
   "metadata": {},
   "source": [
    "Read the full tutorial of Edit Distance at: https://python.gotrained.com/nltk-edit-distance-jaccard-distance/"
   ]
  }
 ],
 "metadata": {
  "kernelspec": {
   "display_name": "Python 3",
   "language": "python",
   "name": "python3"
  },
  "language_info": {
   "codemirror_mode": {
    "name": "ipython",
    "version": 3
   },
   "file_extension": ".py",
   "mimetype": "text/x-python",
   "name": "python",
   "nbconvert_exporter": "python",
   "pygments_lexer": "ipython3",
   "version": "3.8.6"
  }
 },
 "nbformat": 4,
 "nbformat_minor": 4
}
